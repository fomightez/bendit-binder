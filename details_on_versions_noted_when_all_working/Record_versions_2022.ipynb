{
 "cells": [
  {
   "cell_type": "markdown",
   "id": "1a02168b-b485-4411-8c9b-b090f9737808",
   "metadata": {},
   "source": [
    "# Record of versions of software when things were working October 2022\n",
    "\n",
    "This Jupyter notebook page is for logging versions currently used at a time when everything seems to be working. This tracking should help if something breaks later. One possibility is it can be fixed by pinning versions back to when things were working.\n"
   ]
  },
  {
   "cell_type": "markdown",
   "id": "c259f7bd-3aa6-40c3-872a-0ce59bf24536",
   "metadata": {},
   "source": [
    "------------\n",
    "\n",
    "### Preparation\n",
    "\n",
    "Let's install some packaes to assist in this endeavor.\n",
    "\n",
    "Sebastian Raschka's [watermark](https://github.com/rasbt/watermark) paskage is really nice for this sort of thing. See [here](https://nbviewer.org/github/rasbt/watermark/blob/master/docs/watermark.ipynb) for great documented examples of how to use it.\n",
    "\n",
    "Min RK's [Wurlitzer](https://github.com/minrk/wurlitzer#wurlitzer) will be used to suppress the C-level output from the bendit software."
   ]
  },
  {
   "cell_type": "code",
   "execution_count": 1,
   "id": "43e697a2-a574-4397-998e-aaaaf6f23290",
   "metadata": {},
   "outputs": [
    {
     "name": "stdout",
     "output_type": "stream",
     "text": [
      "Collecting watermark\n",
      "  Downloading watermark-2.3.1-py2.py3-none-any.whl (7.2 kB)\n",
      "Requirement already satisfied: importlib-metadata>=1.4 in /srv/conda/envs/notebook/lib/python3.7/site-packages (from watermark) (4.11.4)\n",
      "Requirement already satisfied: ipython in /srv/conda/envs/notebook/lib/python3.7/site-packages (from watermark) (7.33.0)\n",
      "Requirement already satisfied: typing-extensions>=3.6.4 in /srv/conda/envs/notebook/lib/python3.7/site-packages (from importlib-metadata>=1.4->watermark) (4.3.0)\n",
      "Requirement already satisfied: zipp>=0.5 in /srv/conda/envs/notebook/lib/python3.7/site-packages (from importlib-metadata>=1.4->watermark) (3.8.0)\n",
      "Requirement already satisfied: matplotlib-inline in /srv/conda/envs/notebook/lib/python3.7/site-packages (from ipython->watermark) (0.1.3)\n",
      "Requirement already satisfied: prompt-toolkit!=3.0.0,!=3.0.1,<3.1.0,>=2.0.0 in /srv/conda/envs/notebook/lib/python3.7/site-packages (from ipython->watermark) (3.0.30)\n",
      "Requirement already satisfied: traitlets>=4.2 in /srv/conda/envs/notebook/lib/python3.7/site-packages (from ipython->watermark) (5.3.0)\n",
      "Requirement already satisfied: decorator in /srv/conda/envs/notebook/lib/python3.7/site-packages (from ipython->watermark) (5.1.1)\n",
      "Requirement already satisfied: jedi>=0.16 in /srv/conda/envs/notebook/lib/python3.7/site-packages (from ipython->watermark) (0.18.1)\n",
      "Requirement already satisfied: setuptools>=18.5 in /srv/conda/envs/notebook/lib/python3.7/site-packages (from ipython->watermark) (63.3.0)\n",
      "Requirement already satisfied: backcall in /srv/conda/envs/notebook/lib/python3.7/site-packages (from ipython->watermark) (0.2.0)\n",
      "Requirement already satisfied: pygments in /srv/conda/envs/notebook/lib/python3.7/site-packages (from ipython->watermark) (2.12.0)\n",
      "Requirement already satisfied: pexpect>4.3 in /srv/conda/envs/notebook/lib/python3.7/site-packages (from ipython->watermark) (4.8.0)\n",
      "Requirement already satisfied: pickleshare in /srv/conda/envs/notebook/lib/python3.7/site-packages (from ipython->watermark) (0.7.5)\n",
      "Requirement already satisfied: parso<0.9.0,>=0.8.0 in /srv/conda/envs/notebook/lib/python3.7/site-packages (from jedi>=0.16->ipython->watermark) (0.8.3)\n",
      "Requirement already satisfied: ptyprocess>=0.5 in /srv/conda/envs/notebook/lib/python3.7/site-packages (from pexpect>4.3->ipython->watermark) (0.7.0)\n",
      "Requirement already satisfied: wcwidth in /srv/conda/envs/notebook/lib/python3.7/site-packages (from prompt-toolkit!=3.0.0,!=3.0.1,<3.1.0,>=2.0.0->ipython->watermark) (0.2.5)\n",
      "Installing collected packages: watermark\n",
      "Successfully installed watermark-2.3.1\n",
      "Note: you may need to restart the kernel to use updated packages.\n",
      "Collecting wurlitzer\n",
      "  Downloading wurlitzer-3.0.2-py3-none-any.whl (7.3 kB)\n",
      "Installing collected packages: wurlitzer\n",
      "Successfully installed wurlitzer-3.0.2\n",
      "Note: you may need to restart the kernel to use updated packages.\n"
     ]
    }
   ],
   "source": [
    "%pip install watermark\n",
    "%pip install wurlitzer"
   ]
  },
  {
   "cell_type": "code",
   "execution_count": 2,
   "id": "4b656626-cd17-4093-8b69-b3721641b254",
   "metadata": {},
   "outputs": [],
   "source": [
    "%load_ext watermark"
   ]
  },
  {
   "cell_type": "markdown",
   "id": "9d34d8c3-5d78-43b6-931c-6600d96bfd39",
   "metadata": {},
   "source": [
    "___ "
   ]
  },
  {
   "cell_type": "markdown",
   "id": "51000c7a-5b03-42c0-9082-caf09b8e519d",
   "metadata": {},
   "source": [
    "## Current date and time of running this notebook\n",
    "\n",
    "Assuming 'Run All' as is the intention."
   ]
  },
  {
   "cell_type": "code",
   "execution_count": 3,
   "id": "91804a5a-e97a-435f-afd0-dd81adee5ac5",
   "metadata": {},
   "outputs": [
    {
     "name": "stdout",
     "output_type": "stream",
     "text": [
      "Last updated: Wed Oct 05 2022 19:03:18UTC\n",
      "\n"
     ]
    }
   ],
   "source": [
    "%watermark -u -n -t -z \n",
    "# based on https://nbviewer.org/github/rasbt/watermark/blob/master/docs/watermark.ipynb#Last-updated-date-and-time"
   ]
  },
  {
   "cell_type": "markdown",
   "id": "7fe8e7d0-cfdb-40a7-aa3b-4cc934570d8a",
   "metadata": {},
   "source": [
    "## BendIt software itself\n",
    "\n",
    "Curiously, the developers of the BendIt code didn't build in a clear versioning system.   \n",
    "Since they did post the code on GitHub as long as they (or the overseers of GitHub) keep it accessible, something akin to a version indicator can be tracked using the SHA (Secure Hash Algorithm) with the commit being used to clone the software. And so let's document that here do that to try to "
   ]
  },
  {
   "cell_type": "code",
   "execution_count": 4,
   "id": "1ede54ca-e757-4656-8f57-9dd776258e70",
   "metadata": {},
   "outputs": [
    {
     "name": "stdout",
     "output_type": "stream",
     "text": [
      "/home/jovyan/bendit\n",
      "below is the SHA of the current repository which was used to fetch in a recent build of the image used to make this container (which I know was today):\n",
      "ba4a118a264433530f085ee2aee17c449026ff0e\n",
      "/home/jovyan\n"
     ]
    }
   ],
   "source": [
    "%cd bendit\n",
    "!echo \"below is the SHA of the current repository which was used to fetch in a recent build of the image used to make this container (which I know was today):\"\n",
    "!git log -1 --format=\"%H\" # based on https://stackoverflow.com/a/8216896/8508004\n",
    " # need to reset the working directory back to home for rest of notebook\n",
    "%cd ~"
   ]
  },
  {
   "cell_type": "markdown",
   "id": "19fc0ace-cec6-4298-84b1-9670a1feeb36",
   "metadata": {},
   "source": [
    "You'll see tha corresponds to the SHA version shown [here](https://github.com/r78v10a07/bendit/tree/ba4a118a264433530f085ee2aee17c449026ff0e) (note the `ba4a118` at the start matches on the page in few places, which has been the version being used in all the work so far as it was placed there in the repository 6 years ago (from current 2022 date) and we only started using it in 2020 (see [here](https://github.com/fomightez/bendit-binder/commit/3060ad78c7fcbcca5463a5142f555fbff1288f27))."
   ]
  },
  {
   "cell_type": "markdown",
   "id": "e14c501a-b6d0-4604-96f6-151b52c49718",
   "metadata": {},
   "source": [
    "## Python Modules imported during running of the Demo Analysis\n",
    "\n",
    "The demonstration will be run and then all the imported software listed, that list will be what the pipeline really uses.   \n",
    "These will be run in two different cells so that most of the output produced running of the notebook can be suppressed by the `%%capture` cell magic from being shown here since were aren't interested in what it produces here."
   ]
  },
  {
   "cell_type": "code",
   "execution_count": 5,
   "id": "b3a3352e-5b8e-41d2-ac29-9020e802655f",
   "metadata": {},
   "outputs": [],
   "source": [
    "%%capture\n",
    "from wurlitzer import pipes\n",
    "\n",
    "with pipes() as (out, err):\n",
    "    %run index.ipynb"
   ]
  },
  {
   "cell_type": "code",
   "execution_count": 6,
   "id": "94227b70-f695-47b2-99d0-e8901ea2fe29",
   "metadata": {},
   "outputs": [
    {
     "name": "stdout",
     "output_type": "stream",
     "text": [
      "matplotlib: 3.5.3\n",
      "seaborn   : 0.12.0\n",
      "pandas    : 1.3.5\n",
      "IPython   : 7.33.0\n",
      "pyfaidx   : 0.7.1\n",
      "numpy     : 1.21.6\n",
      "sys       : 3.7.12 | packaged by conda-forge | (default, Oct 26 2021, 06:08:53) \n",
      "[GCC 9.4.0]\n",
      "\n"
     ]
    }
   ],
   "source": [
    "%watermark --iversions"
   ]
  },
  {
   "cell_type": "markdown",
   "id": "32f01a5a-007f-4e89-8b70-df3c6eebe346",
   "metadata": {},
   "source": [
    "**Note that this doesn't show all pipeline dependendent packages at this time.** For example I know that `scipy` gets used because of the following line in the script, and yet scipy isn't listed above:\n",
    "\n",
    "```python\n",
    "from scipy.interpolate import Akima1DInterpolator\n",
    "```\n",
    "\n",
    "Likewise, several get imported from `statistics` and `halo` according to these lines: \n",
    "\n",
    "```python\n",
    "from statistics import mean, median, mode, StatisticsError\n",
    "from halo import HaloNotebook as Halo\n",
    "```\n",
    "\n",
    "Turns out this is a known bug presently, see [here](https://github.com/rasbt/watermark/issues/770).\n",
    "\n",
    "**So be sure to check the long list from `pip list` below for the versions associated with those packages:**\n",
    "\n",
    "- scipy\n",
    "- halo\n",
    "\n",
    "(Note that although I have `from statistics import mean, median, mode, StatisticsError`, that's [one of the core libraries in Python 3.7](https://docs.python.org/3.7/library/statistics.html#module-statistics), and so I cannot use a simple regex to collect all the '`from x import y`' examples to look into.)\n",
    "\n",
    "Keeping this section here because it would make a nice concise location for the most pertinent information if this bug is fixed."
   ]
  },
  {
   "cell_type": "code",
   "execution_count": 7,
   "id": "14b5fdd9-b91d-430c-af64-3877f8540e99",
   "metadata": {},
   "outputs": [
    {
     "name": "stdout",
     "output_type": "stream",
     "text": [
      "scipy: 1.7.3\n",
      "halo : 0.0.31\n",
      "\n"
     ]
    }
   ],
   "source": [
    "%watermark -p scipy,halo"
   ]
  },
  {
   "cell_type": "markdown",
   "id": "a58bd7b8-6f5d-42b8-b469-b637287dc2fa",
   "metadata": {},
   "source": [
    "## Python and Machine info"
   ]
  },
  {
   "cell_type": "code",
   "execution_count": 8,
   "id": "3264d327-688b-4e12-86ab-673364898b14",
   "metadata": {},
   "outputs": [
    {
     "name": "stdout",
     "output_type": "stream",
     "text": [
      "Python implementation: CPython\n",
      "Python version       : 3.7.12\n",
      "IPython version      : 7.33.0\n",
      "\n",
      "Compiler    : GCC 9.4.0\n",
      "OS          : Linux\n",
      "Release     : 4.15.0-191-generic\n",
      "Machine     : x86_64\n",
      "Processor   : x86_64\n",
      "CPU cores   : 4\n",
      "Architecture: 64bit\n",
      "\n"
     ]
    }
   ],
   "source": [
    "%watermark -v -m"
   ]
  },
  {
   "cell_type": "code",
   "execution_count": 9,
   "id": "07826df9-604e-40a6-b01b-a58d2a749af1",
   "metadata": {},
   "outputs": [
    {
     "name": "stdout",
     "output_type": "stream",
     "text": [
      "Python implementation: CPython\n",
      "Python version       : 3.7.12\n",
      "IPython version      : 7.33.0\n",
      "\n",
      "Compiler    : GCC 9.4.0\n",
      "OS          : Linux\n",
      "Release     : 4.15.0-191-generic\n",
      "Machine     : x86_64\n",
      "Processor   : x86_64\n",
      "CPU cores   : 4\n",
      "Architecture: 64bit\n",
      "\n",
      "matplotlib: 3.5.3\n",
      "seaborn   : 0.12.0\n",
      "pandas    : 1.3.5\n",
      "IPython   : 7.33.0\n",
      "pyfaidx   : 0.7.1\n",
      "watermark : 2.3.1\n",
      "numpy     : 1.21.6\n",
      "sys       : 3.7.12 | packaged by conda-forge | (default, Oct 26 2021, 06:08:53) \n",
      "[GCC 9.4.0]\n",
      "\n"
     ]
    }
   ],
   "source": [
    "import watermark\n",
    "print(watermark.watermark(machine=True, globals_=globals(), iversions=True, python=True))"
   ]
  },
  {
   "cell_type": "markdown",
   "id": "fe87f788-d549-4eba-8c40-a1f6fa2456e8",
   "metadata": {},
   "source": [
    "## All pip ('package installer for Python')-installed software present in the environment"
   ]
  },
  {
   "cell_type": "code",
   "execution_count": 10,
   "id": "89afcf06-c804-4b7d-b0e2-2244cf3ee187",
   "metadata": {},
   "outputs": [
    {
     "name": "stdout",
     "output_type": "stream",
     "text": [
      "Package                       Version\n",
      "----------------------------- -----------\n",
      "alembic                       1.8.1\n",
      "anyio                         3.6.1\n",
      "argon2-cffi                   21.3.0\n",
      "argon2-cffi-bindings          21.2.0\n",
      "async-generator               1.10\n",
      "attrs                         22.1.0\n",
      "Babel                         2.10.3\n",
      "backcall                      0.2.0\n",
      "backports.functools-lru-cache 1.6.4\n",
      "beautifulsoup4                4.11.1\n",
      "biopython                     1.79\n",
      "bleach                        5.0.1\n",
      "blinker                       1.4\n",
      "brotlipy                      0.7.0\n",
      "certifi                       2022.6.15\n",
      "certipy                       0.1.3\n",
      "cffi                          1.15.1\n",
      "charset-normalizer            2.1.0\n",
      "colorama                      0.4.5\n",
      "cryptography                  37.0.4\n",
      "cycler                        0.11.0\n",
      "debugpy                       1.6.0\n",
      "decorator                     5.1.1\n",
      "defusedxml                    0.7.1\n",
      "entrypoints                   0.4\n",
      "fastjsonschema                2.16.1\n",
      "flit_core                     3.7.1\n",
      "fonttools                     4.37.4\n",
      "greenlet                      1.1.2\n",
      "halo                          0.0.31\n",
      "idna                          3.3\n",
      "importlib-metadata            4.11.4\n",
      "importlib-resources           5.9.0\n",
      "ipykernel                     6.15.1\n",
      "ipython                       7.33.0\n",
      "ipython-genutils              0.2.0\n",
      "ipywidgets                    7.7.0\n",
      "jedi                          0.18.1\n",
      "Jinja2                        3.1.2\n",
      "json5                         0.9.5\n",
      "jsonschema                    4.9.0\n",
      "jupyter-archive               3.3.1\n",
      "jupyter-client                7.3.4\n",
      "jupyter_core                  4.11.1\n",
      "jupyter-offlinenotebook       0.2.2\n",
      "jupyter-resource-usage        0.6.1\n",
      "jupyter-server                1.18.1\n",
      "jupyter-telemetry             0.1.0\n",
      "jupyterhub                    1.5.0\n",
      "jupyterlab                    3.3.3\n",
      "jupyterlab-pygments           0.2.2\n",
      "jupyterlab-server             2.15.0\n",
      "jupyterlab-widgets            1.1.1\n",
      "jupytext                      1.14.1\n",
      "kiwisolver                    1.4.4\n",
      "log-symbols                   0.0.14\n",
      "logomaker                     0.8\n",
      "Mako                          1.2.1\n",
      "markdown-it-py                2.1.0\n",
      "MarkupSafe                    2.1.1\n",
      "matplotlib                    3.5.3\n",
      "matplotlib-inline             0.1.3\n",
      "mdit-py-plugins               0.3.1\n",
      "mdurl                         0.1.2\n",
      "mistune                       0.8.4\n",
      "nbclassic                     0.4.3\n",
      "nbclient                      0.6.6\n",
      "nbconvert                     6.5.0\n",
      "nbformat                      5.4.0\n",
      "nest-asyncio                  1.5.5\n",
      "notebook                      6.4.10\n",
      "notebook-shim                 0.1.0\n",
      "nteract-on-jupyter            2.1.3\n",
      "numpy                         1.21.6\n",
      "oauthlib                      3.2.0\n",
      "packaging                     21.3\n",
      "pamela                        1.0.0\n",
      "pandas                        1.3.5\n",
      "pandocfilters                 1.5.0\n",
      "parso                         0.8.3\n",
      "pexpect                       4.8.0\n",
      "pickleshare                   0.7.5\n",
      "Pillow                        9.2.0\n",
      "pip                           22.2.1\n",
      "pkgutil_resolve_name          1.3.10\n",
      "prometheus-client             0.14.1\n",
      "prompt-toolkit                3.0.30\n",
      "psutil                        5.9.1\n",
      "ptyprocess                    0.7.0\n",
      "pycparser                     2.21\n",
      "pycurl                        7.45.1\n",
      "pyfaidx                       0.7.1\n",
      "Pygments                      2.12.0\n",
      "PyJWT                         2.4.0\n",
      "pyOpenSSL                     22.0.0\n",
      "pyparsing                     3.0.9\n",
      "pyrsistent                    0.18.1\n",
      "PySocks                       1.7.1\n",
      "python-dateutil               2.8.2\n",
      "python-json-logger            2.0.1\n",
      "pytz                          2022.1\n",
      "PyYAML                        6.0\n",
      "pyzmq                         23.2.0\n",
      "requests                      2.28.1\n",
      "ruamel.yaml                   0.17.21\n",
      "ruamel.yaml.clib              0.2.6\n",
      "scipy                         1.7.3\n",
      "seaborn                       0.12.0\n",
      "Send2Trash                    1.8.0\n",
      "setuptools                    63.3.0\n",
      "six                           1.16.0\n",
      "sniffio                       1.2.0\n",
      "soupsieve                     2.3.2.post1\n",
      "spinners                      0.0.24\n",
      "SQLAlchemy                    1.4.39\n",
      "termcolor                     2.0.1\n",
      "terminado                     0.15.0\n",
      "tinycss2                      1.1.1\n",
      "toml                          0.10.2\n",
      "tornado                       6.2\n",
      "traitlets                     5.3.0\n",
      "typing_extensions             4.3.0\n",
      "urllib3                       1.26.11\n",
      "watermark                     2.3.1\n",
      "wcwidth                       0.2.5\n",
      "webencodings                  0.5.1\n",
      "websocket-client              1.3.3\n",
      "wheel                         0.37.1\n",
      "widgetsnbextension            3.6.1\n",
      "wurlitzer                     3.0.2\n",
      "zipp                          3.8.0\n"
     ]
    }
   ],
   "source": [
    "!pip list"
   ]
  },
  {
   "cell_type": "markdown",
   "id": "6a238e6b-32d8-4bc2-8c62-fb3b42910469",
   "metadata": {},
   "source": [
    "## Jupyter-associated software versions\n",
    "\n",
    "The ones shown here that aren't touched upon shouldn't cause issues; however, documenting the versions in the active sessions along with others for now."
   ]
  },
  {
   "cell_type": "code",
   "execution_count": 11,
   "id": "47a6cc92-d6ac-4b5f-9d91-fc49f428436b",
   "metadata": {},
   "outputs": [
    {
     "name": "stdout",
     "output_type": "stream",
     "text": [
      "\n",
      " 3.7.12 | packaged by conda-forge | (default, Oct 26 2021, 06:08:53) \n",
      "[GCC 9.4.0]\n",
      "Selected Jupyter core packages...\n",
      "IPython          : 7.33.0\n",
      "ipykernel        : 6.15.1\n",
      "ipywidgets       : 7.7.0\n",
      "jupyter_client   : 7.3.4\n",
      "jupyter_core     : 4.11.1\n",
      "jupyter_server   : 1.18.1\n",
      "jupyterlab       : 3.3.3\n",
      "nbclient         : 0.6.6\n",
      "nbconvert        : 6.5.0\n",
      "nbformat         : 5.4.0\n",
      "notebook         : 6.4.10\n",
      "qtconsole        : not installed\n",
      "traitlets        : 5.3.0\n",
      "Known nbextensions:\n",
      "  config dir: /srv/conda/envs/notebook/etc/jupyter/nbconfig\n",
      "    notebook section\n",
      "      jupyter_resource_usage/main \u001b[32m enabled \u001b[0m\n",
      "      - Validating: \u001b[32mOK\u001b[0m\n",
      "      jupytext/index \u001b[32m enabled \u001b[0m\n",
      "      - Validating: \u001b[32mOK\u001b[0m\n",
      "      jupyter-offlinenotebook/main \u001b[32m enabled \u001b[0m\n",
      "      - Validating: \u001b[32mOK\u001b[0m\n",
      "      jupyter-js-widgets/extension \u001b[32m enabled \u001b[0m\n",
      "      - Validating: \u001b[32mOK\u001b[0m\n",
      "JupyterLab v3.3.3\n",
      "/srv/conda/envs/notebook/share/jupyter/labextensions\n",
      "        jupyterlab_pygments v0.2.2 \u001b[32menabled\u001b[0m \u001b[32mOK\u001b[0m (python, jupyterlab_pygments)\n",
      "        jupyter-offlinenotebook v0.2.2 \u001b[32menabled\u001b[0m \u001b[32mOK\u001b[0m\n",
      "        jupyterlab-jupytext v1.3.8+dev \u001b[32menabled\u001b[0m \u001b[32mOK\u001b[0m (python, jupytext)\n",
      "        @jupyter-widgets/jupyterlab-manager v3.1.1 \u001b[32menabled\u001b[0m \u001b[32mOK\u001b[0m (python, jupyterlab_widgets)\n",
      "        @jupyter-server/resource-usage v0.6.1 \u001b[32menabled\u001b[0m \u001b[32mOK\u001b[0m (python, jupyter-resource-usage)\n",
      "        @hadim/jupyter-archive v3.3.1 \u001b[32menabled\u001b[0m \u001b[32mOK\u001b[0m (python, jupyter-archive)\n",
      "\n"
     ]
    }
   ],
   "source": [
    "!python -c \"import sys; print('\\n',sys.version);\" && jupyter --version && jupyter nbextension list && jupyter labextension list"
   ]
  },
  {
   "cell_type": "markdown",
   "id": "2678b6c2-cc54-492a-8925-c28b20e2eaa8",
   "metadata": {},
   "source": [
    "------\n",
    "\n",
    "Enjoy."
   ]
  }
 ],
 "metadata": {
  "kernelspec": {
   "display_name": "Python 3 (ipykernel)",
   "language": "python",
   "name": "python3"
  },
  "language_info": {
   "codemirror_mode": {
    "name": "ipython",
    "version": 3
   },
   "file_extension": ".py",
   "mimetype": "text/x-python",
   "name": "python",
   "nbconvert_exporter": "python",
   "pygments_lexer": "ipython3",
   "version": "3.7.12"
  }
 },
 "nbformat": 4,
 "nbformat_minor": 5
}
